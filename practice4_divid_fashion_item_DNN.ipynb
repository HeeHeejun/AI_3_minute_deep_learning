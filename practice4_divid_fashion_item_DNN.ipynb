{
 "cells": [
  {
   "cell_type": "markdown",
   "id": "10bf77e2",
   "metadata": {},
   "source": [
    "## import"
   ]
  },
  {
   "cell_type": "code",
   "execution_count": 1,
   "id": "838d033c",
   "metadata": {},
   "outputs": [],
   "source": [
    "import torch\n",
    "import torch.nn as nn\n",
    "import torch.optim as optim\n",
    "import torch.nn.functional as F\n",
    "from torchvision import transforms, datasets"
   ]
  },
  {
   "cell_type": "markdown",
   "id": "2ce6e46b",
   "metadata": {},
   "source": [
    "## cuda 확인, cuda 환경, cpu환경 둘 다 사용가능하게 하기"
   ]
  },
  {
   "cell_type": "code",
   "execution_count": 2,
   "id": "e41f9762",
   "metadata": {},
   "outputs": [],
   "source": [
    "USE_CUDA = torch.cuda.is_available()\n",
    "DEVICE = torch.device(\"cuda\" if USE_CUDA else \"cpu\")"
   ]
  },
  {
   "cell_type": "markdown",
   "id": "a0fce967",
   "metadata": {},
   "source": [
    "## 여러개의 배치로 잘라 데이터를 처리하기 with 좌우를 뒤바꿔 학습 데이터 늘리기"
   ]
  },
  {
   "cell_type": "code",
   "execution_count": 5,
   "id": "2a28dbd6",
   "metadata": {},
   "outputs": [
    {
     "name": "stdout",
     "output_type": "stream",
     "text": [
      "Downloading http://yann.lecun.com/exdb/mnist/train-images-idx3-ubyte.gz\n",
      "Downloading http://yann.lecun.com/exdb/mnist/train-images-idx3-ubyte.gz to ./.data/MNIST\\raw\\train-images-idx3-ubyte.gz\n"
     ]
    },
    {
     "name": "stderr",
     "output_type": "stream",
     "text": [
      "100%|██████████████████████████████████████████████████████████████████| 9912422/9912422 [00:00<00:00, 13699500.94it/s]\n"
     ]
    },
    {
     "name": "stdout",
     "output_type": "stream",
     "text": [
      "Extracting ./.data/MNIST\\raw\\train-images-idx3-ubyte.gz to ./.data/MNIST\\raw\n",
      "\n",
      "Downloading http://yann.lecun.com/exdb/mnist/train-labels-idx1-ubyte.gz\n",
      "Downloading http://yann.lecun.com/exdb/mnist/train-labels-idx1-ubyte.gz to ./.data/MNIST\\raw\\train-labels-idx1-ubyte.gz\n"
     ]
    },
    {
     "name": "stderr",
     "output_type": "stream",
     "text": [
      "100%|███████████████████████████████████████████████████████████████████████| 28881/28881 [00:00<00:00, 4125032.14it/s]\n"
     ]
    },
    {
     "name": "stdout",
     "output_type": "stream",
     "text": [
      "Extracting ./.data/MNIST\\raw\\train-labels-idx1-ubyte.gz to ./.data/MNIST\\raw\n",
      "\n",
      "Downloading http://yann.lecun.com/exdb/mnist/t10k-images-idx3-ubyte.gz\n",
      "Downloading http://yann.lecun.com/exdb/mnist/t10k-images-idx3-ubyte.gz to ./.data/MNIST\\raw\\t10k-images-idx3-ubyte.gz\n"
     ]
    },
    {
     "name": "stderr",
     "output_type": "stream",
     "text": [
      "100%|███████████████████████████████████████████████████████████████████| 1648877/1648877 [00:00<00:00, 4444386.08it/s]\n"
     ]
    },
    {
     "name": "stdout",
     "output_type": "stream",
     "text": [
      "Extracting ./.data/MNIST\\raw\\t10k-images-idx3-ubyte.gz to ./.data/MNIST\\raw\n",
      "\n",
      "Downloading http://yann.lecun.com/exdb/mnist/t10k-labels-idx1-ubyte.gz\n",
      "Downloading http://yann.lecun.com/exdb/mnist/t10k-labels-idx1-ubyte.gz to ./.data/MNIST\\raw\\t10k-labels-idx1-ubyte.gz\n"
     ]
    },
    {
     "name": "stderr",
     "output_type": "stream",
     "text": [
      "100%|██████████████████████████████████████████████████████████████████████████████████████| 4542/4542 [00:00<?, ?it/s]"
     ]
    },
    {
     "name": "stdout",
     "output_type": "stream",
     "text": [
      "Extracting ./.data/MNIST\\raw\\t10k-labels-idx1-ubyte.gz to ./.data/MNIST\\raw\n",
      "\n"
     ]
    },
    {
     "name": "stderr",
     "output_type": "stream",
     "text": [
      "\n"
     ]
    }
   ],
   "source": [
    "EPOCHS = 50\n",
    "BATCH_SIZE = 64\n",
    "\n",
    "train_loader = torch.utils.data.DataLoader(\n",
    "    datasets.MNIST('./.data/',\n",
    "                  train=True,\n",
    "                  download=True,\n",
    "                  transform=transforms.Compose([\n",
    "                      transforms.RandomHorizontalFlip(),\n",
    "                      transforms.ToTensor(),\n",
    "                      transforms.Normalize((0.1307,), (0.3081,))\n",
    "                  ])),\n",
    "    batch_size=BATCH_SIZE, shuffle=True\n",
    ")\n",
    "test_loader = torch.utils.data.DataLoader(\n",
    "    datasets.MNIST('./.data/',\n",
    "                  train=False,\n",
    "                  transform=transforms.Compose([\n",
    "                      transforms.ToTensor(),\n",
    "                      transforms.Normalize((0.1307,), (0.3081,))\n",
    "                  ])),\n",
    "    batch_size=BATCH_SIZE, shuffle=True\n",
    ")"
   ]
  },
  {
   "cell_type": "markdown",
   "id": "c7c13091",
   "metadata": {},
   "source": [
    " ## 이미지 분류를 위한 인공 신경망 구현 with 드롭아웃"
   ]
  },
  {
   "cell_type": "code",
   "execution_count": 6,
   "id": "503cb769",
   "metadata": {},
   "outputs": [],
   "source": [
    "class Net(nn.Module):\n",
    "    def __init__(self, dropout_p=0.2):\n",
    "        super(Net, self).__init__()\n",
    "        self.fc1 = nn.Linear(784, 256)\n",
    "        self.fc2 = nn.Linear(256, 128)\n",
    "        self.fc3 = nn.Linear(128, 10)\n",
    "        self.dropout_p = dropout_p\n",
    "\n",
    "    def forward(self, x):\n",
    "        x = x.view(-1, 784)\n",
    "        x = F.relu(self.fc1(x))\n",
    "        x = F.dropout(x, training=self.training, p=self.dropout_p)\n",
    "        x = F.relu(self.fc2(x))\n",
    "        x = F.dropout(x, training=self.training, p=self.dropout_p)\n",
    "        x = self.fc3(x)\n",
    "        return x"
   ]
  },
  {
   "cell_type": "markdown",
   "id": "ebe3b0b4",
   "metadata": {},
   "source": [
    "## cuda일 경우, gpu 아닐 경우, cpu로 보내준다"
   ]
  },
  {
   "cell_type": "code",
   "execution_count": 7,
   "id": "74f82626",
   "metadata": {},
   "outputs": [],
   "source": [
    "model = Net(dropout_p=0.2).to(DEVICE)"
   ]
  },
  {
   "cell_type": "markdown",
   "id": "f0034134",
   "metadata": {},
   "source": [
    "## 최적화 알고리즘 -> optim.SGD = 최저화를 위한 화률적 경사하강법"
   ]
  },
  {
   "cell_type": "code",
   "execution_count": 8,
   "id": "b4c5c62f",
   "metadata": {},
   "outputs": [],
   "source": [
    "optimizer = optim.SGD(model.parameters(), lr=0.01)"
   ]
  },
  {
   "cell_type": "markdown",
   "id": "7cd420ef",
   "metadata": {},
   "source": [
    "## 학습 함수, 모델의 가중치를 조절하는 작업"
   ]
  },
  {
   "cell_type": "code",
   "execution_count": 9,
   "id": "3e6b8881",
   "metadata": {},
   "outputs": [],
   "source": [
    "def train(model, train_loader, optimizer):\n",
    "    model.train()\n",
    "    for batch_idx, (data, target) in enumerate(train_loader):\n",
    "        data, target = data.to(DEVICE), target.to(DEVICE)\n",
    "        optimizer.zero_grad()\n",
    "        output = model(data)\n",
    "        loss = F.cross_entropy(output, target)\n",
    "        loss.backward()\n",
    "        optimizer.step()"
   ]
  },
  {
   "cell_type": "markdown",
   "id": "f5ec9280",
   "metadata": {},
   "source": [
    "## 모델의 일반화를 평가하고, 학습을 언제 멈춰야 할지 판단하기"
   ]
  },
  {
   "cell_type": "code",
   "execution_count": 10,
   "id": "6976d31e",
   "metadata": {},
   "outputs": [],
   "source": [
    "def evaluate(model, test_loader):\n",
    "    model.eval()\n",
    "    test_loss = 0\n",
    "    correct = 0\n",
    "    with torch.no_grad():\n",
    "        for data, target in test_loader:\n",
    "            data, target = data.to(DEVICE), target.to(DEVICE)\n",
    "            output = model(data)\n",
    "            test_loss += F.cross_entropy(output, target, reduction='sum').item()\n",
    "            \n",
    "            pred = output.max(1, keepdim=True)[1]\n",
    "            correct += pred.eq(target.view_as(pred)).sum().item()\n",
    "    test_loss /= len(test_loader.dataset)\n",
    "    test_accuracy = 100 * correct / len(test_loader.dataset)\n",
    "    return test_loss, test_accuracy"
   ]
  },
  {
   "cell_type": "markdown",
   "id": "a38e9e1a",
   "metadata": {},
   "source": [
    "## 학습"
   ]
  },
  {
   "cell_type": "code",
   "execution_count": 11,
   "id": "29e380e9",
   "metadata": {},
   "outputs": [
    {
     "name": "stdout",
     "output_type": "stream",
     "text": [
      "[1] Test Loss: 0.5486, Accuracy: 82.28%\n",
      "[2] Test Loss: 0.4174, Accuracy: 87.10%\n",
      "[3] Test Loss: 0.3416, Accuracy: 89.19%\n",
      "[4] Test Loss: 0.2888, Accuracy: 91.22%\n",
      "[5] Test Loss: 0.2536, Accuracy: 92.10%\n",
      "[6] Test Loss: 0.2324, Accuracy: 92.99%\n",
      "[7] Test Loss: 0.2138, Accuracy: 93.49%\n",
      "[8] Test Loss: 0.1973, Accuracy: 93.96%\n",
      "[9] Test Loss: 0.1869, Accuracy: 94.31%\n",
      "[10] Test Loss: 0.1738, Accuracy: 94.69%\n",
      "[11] Test Loss: 0.1646, Accuracy: 94.99%\n",
      "[12] Test Loss: 0.1542, Accuracy: 95.25%\n",
      "[13] Test Loss: 0.1485, Accuracy: 95.42%\n",
      "[14] Test Loss: 0.1431, Accuracy: 95.48%\n",
      "[15] Test Loss: 0.1407, Accuracy: 95.66%\n",
      "[16] Test Loss: 0.1364, Accuracy: 95.70%\n",
      "[17] Test Loss: 0.1311, Accuracy: 96.00%\n",
      "[18] Test Loss: 0.1260, Accuracy: 96.01%\n",
      "[19] Test Loss: 0.1270, Accuracy: 96.16%\n",
      "[20] Test Loss: 0.1216, Accuracy: 96.15%\n",
      "[21] Test Loss: 0.1174, Accuracy: 96.42%\n",
      "[22] Test Loss: 0.1161, Accuracy: 96.40%\n",
      "[23] Test Loss: 0.1123, Accuracy: 96.46%\n",
      "[24] Test Loss: 0.1109, Accuracy: 96.57%\n",
      "[25] Test Loss: 0.1105, Accuracy: 96.50%\n",
      "[26] Test Loss: 0.1093, Accuracy: 96.60%\n",
      "[27] Test Loss: 0.1032, Accuracy: 96.86%\n",
      "[28] Test Loss: 0.1047, Accuracy: 96.78%\n",
      "[29] Test Loss: 0.1026, Accuracy: 96.77%\n",
      "[30] Test Loss: 0.1030, Accuracy: 96.95%\n",
      "[31] Test Loss: 0.1002, Accuracy: 96.88%\n",
      "[32] Test Loss: 0.0987, Accuracy: 96.92%\n",
      "[33] Test Loss: 0.0972, Accuracy: 96.98%\n",
      "[34] Test Loss: 0.0974, Accuracy: 96.99%\n",
      "[35] Test Loss: 0.0953, Accuracy: 97.12%\n",
      "[36] Test Loss: 0.0943, Accuracy: 97.16%\n",
      "[37] Test Loss: 0.0934, Accuracy: 97.12%\n",
      "[38] Test Loss: 0.0927, Accuracy: 97.18%\n",
      "[39] Test Loss: 0.0903, Accuracy: 97.21%\n",
      "[40] Test Loss: 0.0897, Accuracy: 97.00%\n",
      "[41] Test Loss: 0.0894, Accuracy: 97.22%\n",
      "[42] Test Loss: 0.0886, Accuracy: 97.30%\n",
      "[43] Test Loss: 0.0876, Accuracy: 97.29%\n",
      "[44] Test Loss: 0.0871, Accuracy: 97.41%\n",
      "[45] Test Loss: 0.0885, Accuracy: 97.31%\n",
      "[46] Test Loss: 0.0851, Accuracy: 97.33%\n",
      "[47] Test Loss: 0.0863, Accuracy: 97.34%\n",
      "[48] Test Loss: 0.0849, Accuracy: 97.34%\n",
      "[49] Test Loss: 0.0860, Accuracy: 97.45%\n",
      "[50] Test Loss: 0.0826, Accuracy: 97.46%\n"
     ]
    }
   ],
   "source": [
    "for epoch in range(1, EPOCHS + 1):\n",
    "    train(model, train_loader, optimizer)\n",
    "    test_loss, test_accuracy = evaluate(model, test_loader)\n",
    "    print('[{}] Test Loss: {:.4f}, Accuracy: {:.2f}%'.format(epoch, test_loss, test_accuracy))"
   ]
  }
 ],
 "metadata": {
  "kernelspec": {
   "display_name": "Python 3 (ipykernel)",
   "language": "python",
   "name": "python3"
  },
  "language_info": {
   "codemirror_mode": {
    "name": "ipython",
    "version": 3
   },
   "file_extension": ".py",
   "mimetype": "text/x-python",
   "name": "python",
   "nbconvert_exporter": "python",
   "pygments_lexer": "ipython3",
   "version": "3.10.10"
  }
 },
 "nbformat": 4,
 "nbformat_minor": 5
}
