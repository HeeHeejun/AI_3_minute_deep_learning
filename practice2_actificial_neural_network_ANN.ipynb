{
 "cells": [
  {
   "cell_type": "markdown",
   "id": "1b95fb71",
   "metadata": {},
   "source": [
    "# import"
   ]
  },
  {
   "cell_type": "code",
   "execution_count": 2,
   "id": "759e7667",
   "metadata": {},
   "outputs": [],
   "source": [
    "import torch\n",
    "import numpy\n",
    "from sklearn.datasets import make_blobs\n",
    "import matplotlib.pyplot as plt\n",
    "import torch.nn.functional as F"
   ]
  },
  {
   "cell_type": "markdown",
   "id": "7b815334",
   "metadata": {},
   "source": [
    "# 데이터 셋 생성"
   ]
  },
  {
   "cell_type": "code",
   "execution_count": 3,
   "id": "2b154f92",
   "metadata": {},
   "outputs": [],
   "source": [
    "n_dim = 2\n",
    "x_train, y_train = make_blobs(n_samples=80, n_features=n_dim, \n",
    "                              centers=[[1,1],[-1,-1],[1,-1],[-1,1]], \n",
    "                              shuffle=True, cluster_std=0.3)\n",
    "x_test, y_test = make_blobs(n_samples=20, n_features=n_dim,\n",
    "                            centers=[[1,1],[-1,-1],[1,-1],[-1,1]], \n",
    "                            shuffle=True, cluster_std=0.3)\n",
    "\n",
    "def label_map(y_, from_, to_):\n",
    "    y = numpy.copy(y_)\n",
    "    for f in from_:\n",
    "        y[y_ == f] = to_\n",
    "    return y\n",
    "\n",
    "y_train = label_map(y_train, [0,1],0)\n",
    "y_train = label_map(y_train, [2,3],1)\n",
    "y_test = label_map(y_test, [0,1],0)\n",
    "y_test = label_map(y_test, [2,3],1)"
   ]
  },
  {
   "cell_type": "markdown",
   "id": "4e33f141",
   "metadata": {},
   "source": [
    "# 생성된 데이터 셋 시각화"
   ]
  },
  {
   "cell_type": "code",
   "execution_count": 6,
   "id": "4922b9fe",
   "metadata": {},
   "outputs": [
    {
     "data": {
      "image/png": "[encoded data removed]",
      "text/plain": [
       "<Figure size 640x480 with 1 Axes>"
      ]
     },
     "metadata": {},
     "output_type": "display_data"
    }
   ],
   "source": [
    "def vis_data(x, y = None, c = 'r'):\n",
    "    if y is None:\n",
    "        y = [None] * len(x)\n",
    "    for x_, y_ in zip(x,y):\n",
    "        if y_ is None:\n",
    "            plt.plot(x_[0], x_[1], '+', markerfacecolor='none',\n",
    "                     markeredgecolor=c)\n",
    "        else:\n",
    "            plt.plot(x_[0], x_[1], c+'o' if y_ == 0 else c+'+')\n",
    "\n",
    "plt.figure()\n",
    "vis_data(x_train, y_train, c='r')\n",
    "plt.show()"
   ]
  },
  {
   "cell_type": "markdown",
   "id": "e943d362",
   "metadata": {},
   "source": [
    "# 데이터셋을 파이토치 텐서로 변환"
   ]
  },
  {
   "cell_type": "code",
   "execution_count": 7,
   "id": "820478fa",
   "metadata": {},
   "outputs": [],
   "source": [
    "x_train = torch.FloatTensor(x_train)\n",
    "x_test = torch.FloatTensor(x_test)\n",
    "y_train = torch.FloatTensor(y_train)\n",
    "y_test = torch.FloatTensor(y_test)"
   ]
  },
  {
   "cell_type": "markdown",
   "id": "64331f3b",
   "metadata": {},
   "source": [
    "# 신경망 모델 정의"
   ]
  },
  {
   "cell_type": "code",
   "execution_count": 15,
   "id": "509e7ebc",
   "metadata": {},
   "outputs": [],
   "source": [
    "class NeuralNet(torch.nn.Module):\n",
    "    def __init__(self, input_size, hidden_size):\n",
    "        super(NeuralNet, self).__init__()\n",
    "        self.input_size = input_size\n",
    "        self.hidden_size = hidden_size\n",
    "        self.linear_1 = torch.nn.Linear(self.input_size, self.hidden_size)\n",
    "        self.relu = torch.nn.ReLU()\n",
    "        self.linear_2 = torch.nn.Linear(self.hidden_size, 1)\n",
    "        self.sigmoid = torch.nn.Sigmoid()\n",
    "        \n",
    "    def forward(self, input_tensor):\n",
    "        linear1 = self.linear_1(input_tensor)\n",
    "        relu = self.relu(linear1)\n",
    "        linear2 = self.linear_2(relu)\n",
    "        output = self.sigmoid(linear2)\n",
    "        return output"
   ]
  },
  {
   "cell_type": "markdown",
   "id": "9f5c19ed",
   "metadata": {},
   "source": [
    "# 신경망 모델 생성 및 관련 변수와 알고리즘 정의"
   ]
  },
  {
   "cell_type": "code",
   "execution_count": 16,
   "id": "9aeab849",
   "metadata": {},
   "outputs": [],
   "source": [
    "model = NeuralNet(2,5)\n",
    "learning_rate = 0.3\n",
    "criterion = torch.nn.BCELoss()\n",
    "epochs = 2000\n",
    "optimizer = torch.optim.SGD(model.parameters(),\n",
    "                            lr = learning_rate)"
   ]
  },
  {
   "cell_type": "markdown",
   "id": "d168daf1",
   "metadata": {},
   "source": [
    "# 학습 전 모델 성능 평가"
   ]
  },
  {
   "cell_type": "code",
   "execution_count": 19,
   "id": "ff207294",
   "metadata": {},
   "outputs": [
    {
     "name": "stdout",
     "output_type": "stream",
     "text": [
      "Before Training, test loss is 0.7005239129066467\n"
     ]
    }
   ],
   "source": [
    "model.eval()\n",
    "test_loss_before = criterion(model(x_test).squeeze(), y_test)\n",
    "print('Before Training, test loss is {}'.format(test_loss_before.item()))"
   ]
  },
  {
   "cell_type": "markdown",
   "id": "615a3c6d",
   "metadata": {},
   "source": [
    "# 신경망 학습"
   ]
  },
  {
   "cell_type": "code",
   "execution_count": 21,
   "id": "4373adc5",
   "metadata": {},
   "outputs": [
    {
     "name": "stdout",
     "output_type": "stream",
     "text": [
      "Train loss at 0 is 0.7073945999145508\n",
      "Train loss at 100 is 0.08246468752622604\n",
      "Train loss at 200 is 0.019450435414910316\n",
      "Train loss at 300 is 0.010017517022788525\n",
      "Train loss at 400 is 0.006550957914441824\n",
      "Train loss at 500 is 0.0048037306405603886\n",
      "Train loss at 600 is 0.00376114365644753\n",
      "Train loss at 700 is 0.003073158673942089\n",
      "Train loss at 800 is 0.002587581519037485\n",
      "Train loss at 900 is 0.002228207653388381\n",
      "Train loss at 1000 is 0.001952040591277182\n",
      "Train loss at 1100 is 0.0017336125019937754\n",
      "Train loss at 1200 is 0.0015568491071462631\n",
      "Train loss at 1300 is 0.0014110845513641834\n",
      "Train loss at 1400 is 0.0012889498611912131\n",
      "Train loss at 1500 is 0.0011852136813104153\n",
      "Train loss at 1600 is 0.0010961012449115515\n",
      "Train loss at 1700 is 0.001018773065879941\n",
      "Train loss at 1800 is 0.0009510867530480027\n",
      "Train loss at 1900 is 0.0008913660421967506\n"
     ]
    }
   ],
   "source": [
    "for epoch in range(epochs):\n",
    "    model.train()\n",
    "    optimizer.zero_grad()\n",
    "    train_output = model(x_train)\n",
    "    train_loss = criterion(train_output.squeeze(), y_train)\n",
    "    if epoch % 100 == 0:\n",
    "        print('Train loss at {} is {}'.format(epoch, train_loss.item()))\n",
    "    train_loss.backward()\n",
    "    optimizer.step()"
   ]
  },
  {
   "cell_type": "markdown",
   "id": "39928759",
   "metadata": {},
   "source": [
    "# 학습 후 모델 성능 평가"
   ]
  },
  {
   "cell_type": "code",
   "execution_count": 22,
   "id": "873f907c",
   "metadata": {},
   "outputs": [
    {
     "name": "stdout",
     "output_type": "stream",
     "text": [
      "After Training, test loss is 0.0049323285929858685\n"
     ]
    }
   ],
   "source": [
    "model.eval()\n",
    "test_loss = criterion(model(x_test).squeeze(), y_test)\n",
    "print('After Training, test loss is {}'.format(test_loss.item()))"
   ]
  },
  {
   "cell_type": "markdown",
   "id": "ed8bc1d0",
   "metadata": {},
   "source": [
    "# 학습된 가중치 저장"
   ]
  },
  {
   "cell_type": "code",
   "execution_count": 23,
   "id": "8bbd105b",
   "metadata": {},
   "outputs": [
    {
     "name": "stdout",
     "output_type": "stream",
     "text": [
      "state_dict format of the model: OrderedDict([('linear_1.weight', tensor([[ 1.7596, -1.7501],\n",
      "        [-0.0825, -0.0563],\n",
      "        [-2.1669, -2.2103],\n",
      "        [-1.7193,  1.8758],\n",
      "        [ 2.0629,  2.3809]])), ('linear_1.bias', tensor([ 0.3299, -0.1898, -0.0073,  0.1138, -0.2370])), ('linear_2.weight', tensor([[ 2.3928,  0.0627, -2.9822,  2.4171, -3.1081]])), ('linear_2.bias', tensor([0.6424]))])\n"
     ]
    }
   ],
   "source": [
    "torch.save(model.state_dict(), './model.pt')\n",
    "print('state_dict format of the model: {}'.format(model.state_dict()))"
   ]
  },
  {
   "cell_type": "markdown",
   "id": "7befe249",
   "metadata": {},
   "source": [
    "# 저장된 가중치를 불러와 새로운 모델에 적용(전이 학습)"
   ]
  },
  {
   "cell_type": "code",
   "execution_count": 24,
   "id": "6555f4ff",
   "metadata": {},
   "outputs": [
    {
     "name": "stdout",
     "output_type": "stream",
     "text": [
      "벡터 [-1, 1]이 레이블 1을 가질 확률은 0.9999135732650757\n"
     ]
    }
   ],
   "source": [
    "new_model = NeuralNet(2,5)\n",
    "new_model.load_state_dict(torch.load('./model.pt'))\n",
    "new_model.eval()\n",
    "print('벡터 [-1, 1]이 레이블 1을 가질 확률은 {}'.format(new_model(torch.FloatTensor([-1,1])).item()))"
   ]
  },
  {
   "cell_type": "code",
   "execution_count": null,
   "id": "d2bc0e09",
   "metadata": {},
   "outputs": [],
   "source": []
  }
 ],
 "metadata": {
  "kernelspec": {
   "display_name": "Python 3 (ipykernel)",
   "language": "python",
   "name": "python3"
  },
  "language_info": {
   "codemirror_mode": {
    "name": "ipython",
    "version": 3
   },
   "file_extension": ".py",
   "mimetype": "text/x-python",
   "name": "python",
   "nbconvert_exporter": "python",
   "pygments_lexer": "ipython3",
   "version": "3.10.9"
  }
 },
 "nbformat": 4,
 "nbformat_minor": 5
}
