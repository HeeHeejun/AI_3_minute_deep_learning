{
 "cells": [
  {
   "cell_type": "markdown",
   "id": "d2e51039",
   "metadata": {},
   "source": [
    "## import"
   ]
  },
  {
   "cell_type": "code",
   "execution_count": 3,
   "id": "e75bf485",
   "metadata": {},
   "outputs": [],
   "source": [
    "import torch\n",
    "import torchvision\n",
    "import torch.nn.functional as F\n",
    "from torch import nn, optim\n",
    "from torchvision import transforms, datasets\n",
    "\n",
    "import matplotlib.pyplot as plt\n",
    "from mpl_toolkits.mplot3d import Axes3D\n",
    "from matplotlib import cm\n",
    "import numpy as np"
   ]
  },
  {
   "cell_type": "markdown",
   "id": "39df0e76",
   "metadata": {},
   "source": [
    "## epoch, batch size 정의"
   ]
  },
  {
   "cell_type": "code",
   "execution_count": 6,
   "id": "7995a0c8",
   "metadata": {},
   "outputs": [
    {
     "name": "stdout",
     "output_type": "stream",
     "text": [
      "Device is : cuda\n"
     ]
    }
   ],
   "source": [
    "EPOCH = 10\n",
    "BATCH_SIZE = 64\n",
    "USE_CUDA = torch.cuda.is_available()\n",
    "DEVICE = torch.device(\"cuda\" if USE_CUDA else \"cpu\")\n",
    "print(\"Device is :\", DEVICE)"
   ]
  },
  {
   "cell_type": "markdown",
   "id": "6a79d726",
   "metadata": {},
   "source": [
    "## 학습용 데이터 셋 정의"
   ]
  },
  {
   "cell_type": "code",
   "execution_count": 7,
   "id": "4c4bdb11",
   "metadata": {},
   "outputs": [],
   "source": [
    "trainset = datasets.FashionMNIST(\n",
    "    root = './.data/',\n",
    "    train = True,\n",
    "    download = True,\n",
    "    transform = transforms.ToTensor()\n",
    ")\n",
    "\n",
    "train_loader = torch.utils.data.DataLoader(\n",
    "    dataset = trainset,\n",
    "    batch_size = BATCH_SIZE,\n",
    "    shuffle = True,\n",
    "    num_workers = 2\n",
    ")"
   ]
  },
  {
   "cell_type": "markdown",
   "id": "f44b9a2d",
   "metadata": {},
   "source": [
    "## autoencoder 모듈 정의"
   ]
  },
  {
   "cell_type": "code",
   "execution_count": 17,
   "id": "04152991",
   "metadata": {},
   "outputs": [],
   "source": [
    "class Autoencoder(nn.Module):\n",
    "    def __init__(self):\n",
    "        super(Autoencoder, self).__init__()\n",
    "        \n",
    "        self.encoder = nn.Sequential(\n",
    "            nn.Linear(28*28, 128),\n",
    "            nn.ReLU(),\n",
    "            nn.Linear(128, 64),\n",
    "            nn.ReLU(),\n",
    "            nn.Linear(64, 12),\n",
    "            nn.ReLU(),\n",
    "            nn.Linear(12, 3),\n",
    "        )\n",
    "        \n",
    "        self.decoder = nn.Sequential(\n",
    "            nn.Linear(3, 12),\n",
    "            nn.ReLU(),\n",
    "            nn.Linear(12, 64),\n",
    "            nn.ReLU(),\n",
    "            nn.Linear(64, 128),\n",
    "            nn.ReLU(),\n",
    "            nn.Linear(128, 28*28),\n",
    "            nn.Sigmoid(),\n",
    "        )\n",
    "        \n",
    "    def forward(self, x):\n",
    "        encoded = self.encoder(x)\n",
    "        decoded = self.decoder(encoded)\n",
    "        return encoded, decoded"
   ]
  },
  {
   "cell_type": "markdown",
   "id": "29e01cf6",
   "metadata": {},
   "source": [
    "## model과 optimizer 함수 정의"
   ]
  },
  {
   "cell_type": "code",
   "execution_count": 18,
   "id": "e47bff74",
   "metadata": {},
   "outputs": [],
   "source": [
    "autoencoder = Autoencoder().to(DEVICE)\n",
    "optimizer = torch.optim.Adam(autoencoder.parameters(), lr=0.005)\n",
    "criterion = nn.MSELoss()"
   ]
  },
  {
   "cell_type": "markdown",
   "id": "80eac052",
   "metadata": {},
   "source": [
    "## 잡음 추가 함수"
   ]
  },
  {
   "cell_type": "code",
   "execution_count": 19,
   "id": "69d1949b",
   "metadata": {},
   "outputs": [],
   "source": [
    "def add_noise(img):\n",
    "    noise = torch.randn(img.size()) * 0.2\n",
    "    noisy_img = img + noise\n",
    "    return noisy_img"
   ]
  },
  {
   "cell_type": "markdown",
   "id": "39eaba38",
   "metadata": {},
   "source": [
    "## train 함수"
   ]
  },
  {
   "cell_type": "code",
   "execution_count": 20,
   "id": "d04d48e3",
   "metadata": {},
   "outputs": [],
   "source": [
    "def train(autoencoder, train_loader):\n",
    "    autoencoder.train()\n",
    "    avg_loss = 0\n",
    "    for step, (x, label) in enumerate(train_loader):\n",
    "        x = add_noise(x);\n",
    "        x = x.view(-1, 28*28).to(DEVICE)\n",
    "        y = x.view(-1, 28*28).to(DEVICE)\n",
    "        \n",
    "        label = label.to(DEVICE)\n",
    "        encoded, decoded = autoencoder(x)\n",
    "        \n",
    "        loss = criterion(decoded, y)\n",
    "        optimizer.zero_grad()\n",
    "        loss.backward()\n",
    "        optimizer.step()\n",
    "        \n",
    "        avg_loss += loss.item()\n",
    "    return avg_loss / len(train_loader)"
   ]
  },
  {
   "cell_type": "markdown",
   "id": "3cd931da",
   "metadata": {},
   "source": [
    "## 학습"
   ]
  },
  {
   "cell_type": "code",
   "execution_count": 21,
   "id": "5a7cf5af",
   "metadata": {},
   "outputs": [
    {
     "name": "stdout",
     "output_type": "stream",
     "text": [
      "[Epoch 1] loss:0.08166984440103522\n",
      "[Epoch 2] loss:0.07290938716612137\n",
      "[Epoch 3] loss:0.07186065833451652\n",
      "[Epoch 4] loss:0.07076540038879238\n",
      "[Epoch 5] loss:0.06819625528477656\n",
      "[Epoch 6] loss:0.06660826789783135\n",
      "[Epoch 7] loss:0.06583921853969218\n",
      "[Epoch 8] loss:0.06517650651286787\n",
      "[Epoch 9] loss:0.06479920156554246\n",
      "[Epoch 10] loss:0.06451203953276184\n"
     ]
    }
   ],
   "source": [
    "for epoch in range(1, EPOCH+1):\n",
    "    loss = train(autoencoder, train_loader)\n",
    "    print(\"[Epoch {}] loss:{}\".format(epoch, loss))"
   ]
  },
  {
   "cell_type": "markdown",
   "id": "719e4d91",
   "metadata": {},
   "source": [
    "## 테스트용 데이터 셋 정의\n"
   ]
  },
  {
   "cell_type": "code",
   "execution_count": 23,
   "id": "6e737b96",
   "metadata": {},
   "outputs": [],
   "source": [
    "testset = datasets.FashionMNIST(\n",
    "    root = './.data/',\n",
    "    train = False, \n",
    "    download = True,\n",
    "    transform = transforms.ToTensor()\n",
    ")"
   ]
  },
  {
   "cell_type": "markdown",
   "id": "21267870",
   "metadata": {},
   "source": [
    "## 테스트할 이미지 준비"
   ]
  },
  {
   "cell_type": "code",
   "execution_count": 36,
   "id": "35de1256",
   "metadata": {},
   "outputs": [],
   "source": [
    "sample_data = testset.data[0].view(-1, 28*28)\n",
    "sample_data = sample_data.type(torch.FloatTensor)/255."
   ]
  },
  {
   "cell_type": "markdown",
   "id": "c1b54dbd",
   "metadata": {},
   "source": [
    "## 이미지를 오염 시켜 모델에 적용"
   ]
  },
  {
   "cell_type": "code",
   "execution_count": 37,
   "id": "fca33f2a",
   "metadata": {},
   "outputs": [],
   "source": [
    "original_x = sample_data[0]\n",
    "noisy_x = add_noise(original_x).to(DEVICE)\n",
    "_, recovered_x = autoencoder(noisy_x)"
   ]
  },
  {
   "cell_type": "markdown",
   "id": "2b19b5a5",
   "metadata": {},
   "source": [
    "## 결과 확인 ( 이미지 시각화 )"
   ]
  },
  {
   "cell_type": "code",
   "execution_count": 38,
   "id": "6143ce41",
   "metadata": {},
   "outputs": [
    {
     "data": {
      "image/png": "[encoded data removed]",
      "text/plain": [
       "<Figure size 1500x1500 with 3 Axes>"
      ]
     },
     "metadata": {},
     "output_type": "display_data"
    }
   ],
   "source": [
    "f, a = plt.subplots(1, 3, figsize=(15, 15))\n",
    "\n",
    "original_img = np.reshape(original_x.to(\"cpu\").data.numpy(), (28, 28))\n",
    "noisy_img = np.reshape(noisy_x.to(\"cpu\").data.numpy(), (28, 28))\n",
    "recoverd_img = np.reshape(recovered_x.to(\"cpu\").data.numpy(), (28, 28))\n",
    "\n",
    "a[0].set_title('Original')\n",
    "a[0].imshow(original_img, cmap='gray')\n",
    "\n",
    "a[1].set_title('Noisy')\n",
    "a[1].imshow(noisy_img, cmap='gray')\n",
    "\n",
    "a[2].set_title('Recovered')\n",
    "a[2].imshow(recoverd_img, cmap='gray')\n",
    "\n",
    "plt.show()"
   ]
  },
  {
   "cell_type": "code",
   "execution_count": null,
   "id": "afd702be",
   "metadata": {},
   "outputs": [],
   "source": []
  }
 ],
 "metadata": {
  "kernelspec": {
   "display_name": "Python 3 (ipykernel)",
   "language": "python",
   "name": "python3"
  },
  "language_info": {
   "codemirror_mode": {
    "name": "ipython",
    "version": 3
   },
   "file_extension": ".py",
   "mimetype": "text/x-python",
   "name": "python",
   "nbconvert_exporter": "python",
   "pygments_lexer": "ipython3",
   "version": "3.10.10"
  }
 },
 "nbformat": 4,
 "nbformat_minor": 5
}
