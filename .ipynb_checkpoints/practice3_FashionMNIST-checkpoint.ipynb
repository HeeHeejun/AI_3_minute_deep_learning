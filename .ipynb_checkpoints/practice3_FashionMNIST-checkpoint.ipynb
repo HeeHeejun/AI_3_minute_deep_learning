{
 "cells": [
  {
   "cell_type": "markdown",
   "id": "f46c496f",
   "metadata": {},
   "source": [
    "## Fashion MINIST 데이터 셋을 다룰 수 있게 해주는 모듈"
   ]
  },
  {
   "cell_type": "code",
   "execution_count": 5,
   "id": "a66818c5",
   "metadata": {},
   "outputs": [],
   "source": [
    "from torchvision import datasets, transforms, utils\n",
    "from torch.utils import data"
   ]
  },
  {
   "cell_type": "markdown",
   "id": "50352f4c",
   "metadata": {},
   "source": [
    "## import plt, np"
   ]
  },
  {
   "cell_type": "code",
   "execution_count": 6,
   "id": "57b2f3a1",
   "metadata": {},
   "outputs": [],
   "source": [
    "import matplotlib.pyplot as plt\n",
    "import numpy as np"
   ]
  },
  {
   "cell_type": "markdown",
   "id": "a98e1967",
   "metadata": {},
   "source": [
    "## 이미지를 텐서로 변경해주기"
   ]
  },
  {
   "cell_type": "code",
   "execution_count": 10,
   "id": "71b44e35",
   "metadata": {},
   "outputs": [],
   "source": [
    "transform = transforms.Compose([\n",
    "    transforms.ToTensor()\n",
    "])"
   ]
  },
  {
   "cell_type": "markdown",
   "id": "042557a9",
   "metadata": {},
   "source": [
    "## FashionMNIST 데이터 셋 가져오기"
   ]
  },
  {
   "cell_type": "code",
   "execution_count": 11,
   "id": "3ed7346e",
   "metadata": {},
   "outputs": [
    {
     "name": "stdout",
     "output_type": "stream",
     "text": [
      "Downloading http://fashion-mnist.s3-website.eu-central-1.amazonaws.com/train-images-idx3-ubyte.gz\n",
      "Downloading http://fashion-mnist.s3-website.eu-central-1.amazonaws.com/train-images-idx3-ubyte.gz to ./.data/FashionMNIST\\raw\\train-images-idx3-ubyte.gz\n"
     ]
    },
    {
     "data": {
      "application/vnd.jupyter.widget-view+json": {
       "model_id": "4429df7747234bac8208dff4c56ca5f3",
       "version_major": 2,
       "version_minor": 0
      },
      "text/plain": [
       "  0%|          | 0/26421880 [00:00<?, ?it/s]"
      ]
     },
     "metadata": {},
     "output_type": "display_data"
    },
    {
     "name": "stdout",
     "output_type": "stream",
     "text": [
      "Extracting ./.data/FashionMNIST\\raw\\train-images-idx3-ubyte.gz to ./.data/FashionMNIST\\raw\n",
      "\n",
      "Downloading http://fashion-mnist.s3-website.eu-central-1.amazonaws.com/train-labels-idx1-ubyte.gz\n",
      "Downloading http://fashion-mnist.s3-website.eu-central-1.amazonaws.com/train-labels-idx1-ubyte.gz to ./.data/FashionMNIST\\raw\\train-labels-idx1-ubyte.gz\n"
     ]
    },
    {
     "data": {
      "application/vnd.jupyter.widget-view+json": {
       "model_id": "cabc333bbeb04d0ca66c8fa8ab89a616",
       "version_major": 2,
       "version_minor": 0
      },
      "text/plain": [
       "  0%|          | 0/29515 [00:00<?, ?it/s]"
      ]
     },
     "metadata": {},
     "output_type": "display_data"
    },
    {
     "name": "stdout",
     "output_type": "stream",
     "text": [
      "Extracting ./.data/FashionMNIST\\raw\\train-labels-idx1-ubyte.gz to ./.data/FashionMNIST\\raw\n",
      "\n",
      "Downloading http://fashion-mnist.s3-website.eu-central-1.amazonaws.com/t10k-images-idx3-ubyte.gz\n",
      "Downloading http://fashion-mnist.s3-website.eu-central-1.amazonaws.com/t10k-images-idx3-ubyte.gz to ./.data/FashionMNIST\\raw\\t10k-images-idx3-ubyte.gz\n"
     ]
    },
    {
     "data": {
      "application/vnd.jupyter.widget-view+json": {
       "model_id": "4538d05a5e01429786debb6e5a571c4f",
       "version_major": 2,
       "version_minor": 0
      },
      "text/plain": [
       "  0%|          | 0/4422102 [00:00<?, ?it/s]"
      ]
     },
     "metadata": {},
     "output_type": "display_data"
    },
    {
     "name": "stdout",
     "output_type": "stream",
     "text": [
      "Extracting ./.data/FashionMNIST\\raw\\t10k-images-idx3-ubyte.gz to ./.data/FashionMNIST\\raw\n",
      "\n",
      "Downloading http://fashion-mnist.s3-website.eu-central-1.amazonaws.com/t10k-labels-idx1-ubyte.gz\n",
      "Downloading http://fashion-mnist.s3-website.eu-central-1.amazonaws.com/t10k-labels-idx1-ubyte.gz to ./.data/FashionMNIST\\raw\\t10k-labels-idx1-ubyte.gz\n"
     ]
    },
    {
     "data": {
      "application/vnd.jupyter.widget-view+json": {
       "model_id": "a63dddb94f174fafb538642a91f21685",
       "version_major": 2,
       "version_minor": 0
      },
      "text/plain": [
       "  0%|          | 0/5148 [00:00<?, ?it/s]"
      ]
     },
     "metadata": {},
     "output_type": "display_data"
    },
    {
     "name": "stdout",
     "output_type": "stream",
     "text": [
      "Extracting ./.data/FashionMNIST\\raw\\t10k-labels-idx1-ubyte.gz to ./.data/FashionMNIST\\raw\n",
      "\n"
     ]
    }
   ],
   "source": [
    "trainset = datasets.FashionMNIST(\n",
    "    root = './.data/',\n",
    "    train = True,\n",
    "    download=True,\n",
    "    transform = transform\n",
    ")\n",
    "\n",
    "testset = datasets.FashionMNIST(\n",
    "    root='./.data/',\n",
    "    train=False,\n",
    "    download=True,\n",
    "    transform= transform\n",
    ")"
   ]
  },
  {
   "cell_type": "markdown",
   "id": "7b4a1492",
   "metadata": {},
   "source": [
    "## dataLoader 준비, 데이터 셋을 배치단위로 쪼개고 반복문 안에서 데이터를 공급해주는 클래스"
   ]
  },
  {
   "cell_type": "code",
   "execution_count": 12,
   "id": "c4d1c18e",
   "metadata": {},
   "outputs": [],
   "source": [
    "batch_size = 20\n",
    "\n",
    "train_loader = data.DataLoader(\n",
    "    dataset = trainset,\n",
    "    batch_size= batch_size\n",
    ")\n",
    "test_loader = data.DataLoader(\n",
    "    dataset= testset,\n",
    "    batch_size=batch_size\n",
    ")"
   ]
  },
  {
   "cell_type": "markdown",
   "id": "c5596068",
   "metadata": {},
   "source": [
    "## 데이터를 눈으로 확인해보기"
   ]
  },
  {
   "cell_type": "code",
   "execution_count": 13,
   "id": "012ce41a",
   "metadata": {},
   "outputs": [
    {
     "data": {
      "image/png": "[encoded data removed]",
      "text/plain": [
       "<Figure size 1000x700 with 1 Axes>"
      ]
     },
     "metadata": {},
     "output_type": "display_data"
    }
   ],
   "source": [
    "dataiter = iter(train_loader)\n",
    "images, labels = next(dataiter)\n",
    "\n",
    "img = utils.make_grid(images, padding=0)\n",
    "npimg = img.numpy()\n",
    "plt.figure(figsize=(10, 7))\n",
    "plt.imshow(np.transpose(npimg, (1,2,0)))\n",
    "plt.show()"
   ]
  },
  {
   "cell_type": "markdown",
   "id": "733b5038",
   "metadata": {},
   "source": [
    "## CLASS 지정"
   ]
  },
  {
   "cell_type": "code",
   "execution_count": 17,
   "id": "275d6e0b",
   "metadata": {},
   "outputs": [
    {
     "name": "stdout",
     "output_type": "stream",
     "text": [
      "Ankle boot\n",
      "T-Shirt/top\n",
      "T-Shirt/top\n",
      "Dress\n",
      "T-Shirt/top\n",
      "Pullover\n",
      "Sneaker\n",
      "Pullover\n",
      "Sandal\n",
      "Sandal\n",
      "T-Shirt/top\n",
      "Ankle boot\n",
      "Sandal\n",
      "Sandal\n",
      "Sneaker\n",
      "Ankle boot\n",
      "Trouser\n",
      "T-Shirt/top\n",
      "Shirt\n",
      "Coat\n"
     ]
    }
   ],
   "source": [
    "CLASSES = {\n",
    "    0 : 'T-Shirt/top',\n",
    "    1 : 'Trouser',\n",
    "    2 : 'Pullover',\n",
    "    3 : 'Dress',\n",
    "    4 : 'Coat',\n",
    "    5 : 'Sandal',\n",
    "    6 : 'Shirt',\n",
    "    7 : 'Sneaker',\n",
    "    8 : 'Bag',\n",
    "    9 : 'Ankle boot'\n",
    "}\n",
    "\n",
    "for label in labels:\n",
    "    index = label.item()\n",
    "    print(CLASSES[index])"
   ]
  },
  {
   "cell_type": "markdown",
   "id": "754b9b68",
   "metadata": {},
   "source": [
    "## 개별 이미지 확인하기"
   ]
  },
  {
   "cell_type": "code",
   "execution_count": 19,
   "id": "b6d29347",
   "metadata": {},
   "outputs": [
    {
     "data": {
      "image/png": "[encoded data removed]",
      "text/plain": [
       "<Figure size 640x480 with 1 Axes>"
      ]
     },
     "metadata": {},
     "output_type": "display_data"
    }
   ],
   "source": [
    "idx = 1\n",
    "item_img = images[idx]\n",
    "item_npimg = item_img.squeeze().numpy()\n",
    "plt.title(CLASSES[labels[idx].item()])\n",
    "plt.imshow(item_npimg, cmap='gray')\n",
    "plt.show()"
   ]
  },
  {
   "cell_type": "code",
   "execution_count": null,
   "id": "348a5ca3",
   "metadata": {},
   "outputs": [],
   "source": []
  }
 ],
 "metadata": {
  "kernelspec": {
   "display_name": "Python 3 (ipykernel)",
   "language": "python",
   "name": "python3"
  },
  "language_info": {
   "codemirror_mode": {
    "name": "ipython",
    "version": 3
   },
   "file_extension": ".py",
   "mimetype": "text/x-python",
   "name": "python",
   "nbconvert_exporter": "python",
   "pygments_lexer": "ipython3",
   "version": "3.10.9"
  }
 },
 "nbformat": 4,
 "nbformat_minor": 5
}
